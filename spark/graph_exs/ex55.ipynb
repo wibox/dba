{
 "cells": [
  {
   "cell_type": "code",
   "execution_count": null,
   "metadata": {},
   "outputs": [],
   "source": [
    "from pyspark import SparkContext, SparkConf\n",
    "from pyspark.sql import SparkSession\n",
    "from graphframes import GraphFrame\n",
    "\n",
    "conf = SparkConf().setAppName(\"ex55\")\n",
    "sc = SparkContext(conf=conf)\n",
    "ssql = SparkSession.builder.getOrCreate()"
   ]
  },
  {
   "cell_type": "code",
   "execution_count": 2,
   "metadata": {},
   "outputs": [],
   "source": [
    "edgesPath = \"data/Ex55/data/edges.csv\"\n",
    "vertexesPath = \"data/Ex55/data/vertexes.csv\"\n",
    "outputPath = \"out55/\""
   ]
  },
  {
   "cell_type": "code",
   "execution_count": 3,
   "metadata": {},
   "outputs": [],
   "source": [
    "eDF = ssql.read.load(\n",
    "    edgesPath,\n",
    "    format=\"csv\",\n",
    "    header=True,\n",
    "    inferSchema=True\n",
    ")\n",
    "\n",
    "vDF = ssql.read.load(\n",
    "    vertexesPath,\n",
    "    format=\"csv\",\n",
    "    header=True,\n",
    "    inferSchema=True\n",
    ")"
   ]
  },
  {
   "cell_type": "code",
   "execution_count": 4,
   "metadata": {},
   "outputs": [
    {
     "name": "stdout",
     "output_type": "stream",
     "text": [
      "root\n",
      " |-- src: string (nullable = true)\n",
      " |-- dst: string (nullable = true)\n",
      " |-- linktype: string (nullable = true)\n",
      "\n",
      "root\n",
      " |-- id: string (nullable = true)\n",
      " |-- entityName: string (nullable = true)\n",
      " |-- name: string (nullable = true)\n",
      "\n"
     ]
    },
    {
     "data": {
      "text/plain": [
       "(None, None)"
      ]
     },
     "execution_count": 4,
     "metadata": {},
     "output_type": "execute_result"
    }
   ],
   "source": [
    "eDF.printSchema(), vDF.printSchema()"
   ]
  },
  {
   "cell_type": "code",
   "execution_count": 5,
   "metadata": {},
   "outputs": [
    {
     "name": "stdout",
     "output_type": "stream",
     "text": [
      "+---+---+----------+\n",
      "|src|dst|  linktype|\n",
      "+---+---+----------+\n",
      "| V1| V2|      like|\n",
      "| V1| V3|    follow|\n",
      "| V1| V4|    follow|\n",
      "| V3| V2|    follow|\n",
      "| V3| V4|    follow|\n",
      "| V5| V2|  expertOf|\n",
      "| V2| V4|correlated|\n",
      "| V4| V2|correlated|\n",
      "+---+---+----------+\n",
      "\n",
      "+---+----------+--------+\n",
      "| id|entityName|    name|\n",
      "+---+----------+--------+\n",
      "| V1|      user|   Paolo|\n",
      "| V2|     topic|     SQL|\n",
      "| V3|      user|   David|\n",
      "| V4|     topic|Big Data|\n",
      "| V5|      user|    John|\n",
      "+---+----------+--------+\n",
      "\n"
     ]
    },
    {
     "data": {
      "text/plain": [
       "(None, None)"
      ]
     },
     "execution_count": 5,
     "metadata": {},
     "output_type": "execute_result"
    }
   ],
   "source": [
    "eDF.show(), vDF.show()"
   ]
  },
  {
   "cell_type": "code",
   "execution_count": 6,
   "metadata": {},
   "outputs": [],
   "source": [
    "filteredEDF = eDF.filter(\"linktype='follow'\")"
   ]
  },
  {
   "cell_type": "code",
   "execution_count": null,
   "metadata": {},
   "outputs": [],
   "source": [
    "g = GraphFrame(vDF, filteredEDF)"
   ]
  },
  {
   "cell_type": "code",
   "execution_count": null,
   "metadata": {},
   "outputs": [],
   "source": [
    "resultDF = g.find(\"(userID)-[follow]->(topicID)\")"
   ]
  },
  {
   "cell_type": "code",
   "execution_count": 11,
   "metadata": {},
   "outputs": [
    {
     "name": "stdout",
     "output_type": "stream",
     "text": [
      "+-----------------+----------------+--------------------+\n",
      "|           userID|          follow|             topicID|\n",
      "+-----------------+----------------+--------------------+\n",
      "|{V1, user, Paolo}|{V1, V3, follow}|   {V3, user, David}|\n",
      "|{V1, user, Paolo}|{V1, V4, follow}|{V4, topic, Big D...|\n",
      "|{V3, user, David}|{V3, V2, follow}|    {V2, topic, SQL}|\n",
      "|{V3, user, David}|{V3, V4, follow}|{V4, topic, Big D...|\n",
      "+-----------------+----------------+--------------------+\n",
      "\n",
      "root\n",
      " |-- userID: struct (nullable = false)\n",
      " |    |-- id: string (nullable = true)\n",
      " |    |-- entityName: string (nullable = true)\n",
      " |    |-- name: string (nullable = true)\n",
      " |-- follow: struct (nullable = false)\n",
      " |    |-- src: string (nullable = true)\n",
      " |    |-- dst: string (nullable = true)\n",
      " |    |-- linktype: string (nullable = true)\n",
      " |-- topicID: struct (nullable = false)\n",
      " |    |-- id: string (nullable = true)\n",
      " |    |-- entityName: string (nullable = true)\n",
      " |    |-- name: string (nullable = true)\n",
      "\n"
     ]
    },
    {
     "data": {
      "text/plain": [
       "(None, None)"
      ]
     },
     "execution_count": 11,
     "metadata": {},
     "output_type": "execute_result"
    }
   ],
   "source": [
    "resultDF.show(), resultDF.printSchema()"
   ]
  },
  {
   "cell_type": "code",
   "execution_count": 12,
   "metadata": {},
   "outputs": [],
   "source": [
    "#qui faccio un filter perchè un utente può anche followare un altro utente oltre che un topic\n",
    "topicsDF = resultDF.filter(\"userID.entityName='user' AND topicID.entityName='topic'\")"
   ]
  },
  {
   "cell_type": "code",
   "execution_count": 13,
   "metadata": {},
   "outputs": [
    {
     "name": "stdout",
     "output_type": "stream",
     "text": [
      "+-----------------+----------------+--------------------+\n",
      "|           userID|          follow|             topicID|\n",
      "+-----------------+----------------+--------------------+\n",
      "|{V1, user, Paolo}|{V1, V4, follow}|{V4, topic, Big D...|\n",
      "|{V3, user, David}|{V3, V2, follow}|    {V2, topic, SQL}|\n",
      "|{V3, user, David}|{V3, V4, follow}|{V4, topic, Big D...|\n",
      "+-----------------+----------------+--------------------+\n",
      "\n",
      "root\n",
      " |-- userID: struct (nullable = false)\n",
      " |    |-- id: string (nullable = true)\n",
      " |    |-- entityName: string (nullable = true)\n",
      " |    |-- name: string (nullable = true)\n",
      " |-- follow: struct (nullable = false)\n",
      " |    |-- src: string (nullable = true)\n",
      " |    |-- dst: string (nullable = true)\n",
      " |    |-- linktype: string (nullable = true)\n",
      " |-- topicID: struct (nullable = false)\n",
      " |    |-- id: string (nullable = true)\n",
      " |    |-- entityName: string (nullable = true)\n",
      " |    |-- name: string (nullable = true)\n",
      "\n"
     ]
    },
    {
     "data": {
      "text/plain": [
       "(None, None)"
      ]
     },
     "execution_count": 13,
     "metadata": {},
     "output_type": "execute_result"
    }
   ],
   "source": [
    "topicsDF.show(), topicsDF.printSchema()"
   ]
  },
  {
   "cell_type": "code",
   "execution_count": 14,
   "metadata": {},
   "outputs": [],
   "source": [
    "finalDF = topicsDF.selectExpr(\"userID.name AS userName\", \"topicID.name AS topicName\")"
   ]
  },
  {
   "cell_type": "code",
   "execution_count": 15,
   "metadata": {},
   "outputs": [
    {
     "name": "stdout",
     "output_type": "stream",
     "text": [
      "+--------+---------+\n",
      "|userName|topicName|\n",
      "+--------+---------+\n",
      "|   Paolo| Big Data|\n",
      "|   David|      SQL|\n",
      "|   David| Big Data|\n",
      "+--------+---------+\n",
      "\n"
     ]
    }
   ],
   "source": [
    "finalDF.show()"
   ]
  },
  {
   "cell_type": "code",
   "execution_count": 16,
   "metadata": {},
   "outputs": [],
   "source": [
    "finalDF.write.csv(outputPath, header=True)"
   ]
  }
 ],
 "metadata": {
  "kernelspec": {
   "display_name": "Python 3.10.4 ('univenv')",
   "language": "python",
   "name": "python3"
  },
  "language_info": {
   "codemirror_mode": {
    "name": "ipython",
    "version": 3
   },
   "file_extension": ".py",
   "mimetype": "text/x-python",
   "name": "python",
   "nbconvert_exporter": "python",
   "pygments_lexer": "ipython3",
   "version": "3.10.4"
  },
  "orig_nbformat": 4,
  "vscode": {
   "interpreter": {
    "hash": "1c09f96fa3376aee947a5c6cdca7d8430de07efed7253ca04be919864e78c173"
   }
  }
 },
 "nbformat": 4,
 "nbformat_minor": 2
}
