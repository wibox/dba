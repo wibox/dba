{
 "cells": [
  {
   "cell_type": "code",
   "execution_count": null,
   "metadata": {},
   "outputs": [],
   "source": [
    "from pyspark import SparkContext, SparkConf\n",
    "from pyspark.sql import SparkSession\n",
    "from graphframes import GraphFrame\n",
    "\n",
    "conf = SparkConf().setAppName(\"ex52\")\n",
    "sc = SparkContext(conf = conf)\n",
    "ssql = SparkSession.builder.getOrCreate()"
   ]
  },
  {
   "cell_type": "code",
   "execution_count": 2,
   "metadata": {},
   "outputs": [],
   "source": [
    "edgesPath = \"data/Ex52/data/edges.csv\"\n",
    "vertexesPath = \"data/Ex52/data/vertexes.csv\"\n",
    "outputPath = \"out52/\""
   ]
  },
  {
   "cell_type": "code",
   "execution_count": 3,
   "metadata": {},
   "outputs": [],
   "source": [
    "v = ssql.read.load(\n",
    "    vertexesPath,\n",
    "    format=\"csv\",\n",
    "    header=True,\n",
    "    inferSchema=True\n",
    ")\n",
    "\n",
    "e = ssql.read.load(\n",
    "    edgesPath,\n",
    "    format=\"csv\",\n",
    "    header=True,\n",
    "    inferSchema=True\n",
    ")"
   ]
  },
  {
   "cell_type": "code",
   "execution_count": 4,
   "metadata": {},
   "outputs": [
    {
     "name": "stdout",
     "output_type": "stream",
     "text": [
      "+---+-----+---+\n",
      "| id| name|age|\n",
      "+---+-----+---+\n",
      "| u1|Alice| 34|\n",
      "| u2|  Bob| 36|\n",
      "| u3| John| 30|\n",
      "| u4|David| 29|\n",
      "| u5| Paul| 32|\n",
      "| u6| Adel| 36|\n",
      "| u7| Eddy| 60|\n",
      "+---+-----+---+\n",
      "\n",
      "root\n",
      " |-- id: string (nullable = true)\n",
      " |-- name: string (nullable = true)\n",
      " |-- age: integer (nullable = true)\n",
      "\n",
      "+---+---+--------+\n",
      "|src|dst|linktype|\n",
      "+---+---+--------+\n",
      "| u1| u2|  friend|\n",
      "| u1| u4|  friend|\n",
      "| u1| u5|  friend|\n",
      "| u2| u1|  friend|\n",
      "| u2| u3|  follow|\n",
      "| u3| u2|  follow|\n",
      "| u4| u1|  friend|\n",
      "| u4| u5|  friend|\n",
      "| u5| u1|  friend|\n",
      "| u5| u4|  friend|\n",
      "| u5| u6|  follow|\n",
      "| u6| u3|  follow|\n",
      "| u7| u6|  follow|\n",
      "+---+---+--------+\n",
      "\n",
      "root\n",
      " |-- src: string (nullable = true)\n",
      " |-- dst: string (nullable = true)\n",
      " |-- linktype: string (nullable = true)\n",
      "\n"
     ]
    },
    {
     "data": {
      "text/plain": [
       "(None, None)"
      ]
     },
     "execution_count": 4,
     "metadata": {},
     "output_type": "execute_result"
    }
   ],
   "source": [
    "v.show(), v.printSchema()\n",
    "e.show(), e.printSchema()"
   ]
  },
  {
   "cell_type": "code",
   "execution_count": 5,
   "metadata": {},
   "outputs": [],
   "source": [
    "filteredEdges = e.filter(\"linktype='follow'\")"
   ]
  },
  {
   "cell_type": "code",
   "execution_count": null,
   "metadata": {},
   "outputs": [],
   "source": [
    "g = GraphFrame(v, filteredEdges)"
   ]
  },
  {
   "cell_type": "code",
   "execution_count": 7,
   "metadata": {},
   "outputs": [
    {
     "name": "stderr",
     "output_type": "stream",
     "text": [
      "/home/webbelle/univenv/lib/python3.10/site-packages/pyspark/sql/dataframe.py:127: UserWarning: DataFrame constructor is internal. Do not directly use it.\n",
      "  warnings.warn(\"DataFrame constructor is internal. Do not directly use it.\")\n"
     ]
    }
   ],
   "source": [
    "finalDF = g.inDegrees.withColumnRenamed(\"inDegree\", \"NFollowers\")"
   ]
  },
  {
   "cell_type": "code",
   "execution_count": 8,
   "metadata": {},
   "outputs": [
    {
     "name": "stdout",
     "output_type": "stream",
     "text": [
      "+---+----------+\n",
      "| id|NFollowers|\n",
      "+---+----------+\n",
      "| u3|         2|\n",
      "| u6|         2|\n",
      "| u2|         1|\n",
      "+---+----------+\n",
      "\n",
      "root\n",
      " |-- id: string (nullable = true)\n",
      " |-- NFollowers: integer (nullable = false)\n",
      "\n"
     ]
    },
    {
     "data": {
      "text/plain": [
       "(None, None)"
      ]
     },
     "execution_count": 8,
     "metadata": {},
     "output_type": "execute_result"
    }
   ],
   "source": [
    "finalDF.show(), finalDF.printSchema()"
   ]
  },
  {
   "cell_type": "code",
   "execution_count": 9,
   "metadata": {},
   "outputs": [],
   "source": [
    "finalDF.write.csv(outputPath, header=True)"
   ]
  }
 ],
 "metadata": {
  "kernelspec": {
   "display_name": "Python 3.10.4 ('univenv')",
   "language": "python",
   "name": "python3"
  },
  "language_info": {
   "codemirror_mode": {
    "name": "ipython",
    "version": 3
   },
   "file_extension": ".py",
   "mimetype": "text/x-python",
   "name": "python",
   "nbconvert_exporter": "python",
   "pygments_lexer": "ipython3",
   "version": "3.10.4"
  },
  "orig_nbformat": 4,
  "vscode": {
   "interpreter": {
    "hash": "1c09f96fa3376aee947a5c6cdca7d8430de07efed7253ca04be919864e78c173"
   }
  }
 },
 "nbformat": 4,
 "nbformat_minor": 2
}
