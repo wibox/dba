{
 "cells": [
  {
   "cell_type": "code",
   "execution_count": null,
   "metadata": {},
   "outputs": [],
   "source": [
    "from pyspark import SparkConf, SparkContext\n",
    "from pyspark.sql import SparkSession\n",
    "from graphframes import GraphFrame\n",
    "\n",
    "conf = SparkConf().setAppName(\"ex56\")\n",
    "sc = SparkContext(conf=conf)\n",
    "ssqdl = SparkSession.builder.getOrCreate()"
   ]
  },
  {
   "cell_type": "code",
   "execution_count": 2,
   "metadata": {},
   "outputs": [],
   "source": [
    "edgesPath = \"data/Ex56/data/edges.csv\"\n",
    "vertexesPath = \"data/Ex56/data/vertexes.csv\"\n",
    "outputPath = \"out56/\""
   ]
  },
  {
   "cell_type": "code",
   "execution_count": 4,
   "metadata": {},
   "outputs": [],
   "source": [
    "eDF = ssqdl.read.load(\n",
    "    edgesPath,\n",
    "    format=\"csv\",\n",
    "    header=True,\n",
    "    inferSchema=True\n",
    ")\n",
    "\n",
    "vDF = ssqdl.read.load(\n",
    "    vertexesPath,\n",
    "    format=\"csv\",\n",
    "    header=True,\n",
    "    inferSchema=True\n",
    ")"
   ]
  },
  {
   "cell_type": "code",
   "execution_count": 5,
   "metadata": {},
   "outputs": [
    {
     "name": "stdout",
     "output_type": "stream",
     "text": [
      "+---+---+----------+\n",
      "|src|dst|  linktype|\n",
      "+---+---+----------+\n",
      "| V1| V2|      like|\n",
      "| V1| V3|    follow|\n",
      "| V1| V4|    follow|\n",
      "| V3| V2|    follow|\n",
      "| V3| V4|    follow|\n",
      "| V5| V2|  expertOf|\n",
      "| V2| V4|correlated|\n",
      "| V4| V2|correlated|\n",
      "+---+---+----------+\n",
      "\n",
      "root\n",
      " |-- src: string (nullable = true)\n",
      " |-- dst: string (nullable = true)\n",
      " |-- linktype: string (nullable = true)\n",
      "\n",
      "+---+----------+--------+\n",
      "| id|entityName|    name|\n",
      "+---+----------+--------+\n",
      "| V1|      user|   Paolo|\n",
      "| V2|     topic|     SQL|\n",
      "| V3|      user|   David|\n",
      "| V4|     topic|Big Data|\n",
      "| V5|      user|    John|\n",
      "+---+----------+--------+\n",
      "\n",
      "root\n",
      " |-- id: string (nullable = true)\n",
      " |-- entityName: string (nullable = true)\n",
      " |-- name: string (nullable = true)\n",
      "\n"
     ]
    },
    {
     "data": {
      "text/plain": [
       "(None, None)"
      ]
     },
     "execution_count": 5,
     "metadata": {},
     "output_type": "execute_result"
    }
   ],
   "source": [
    "eDF.show(), eDF.printSchema()\n",
    "vDF.show(), vDF.printSchema()"
   ]
  },
  {
   "cell_type": "code",
   "execution_count": 6,
   "metadata": {},
   "outputs": [],
   "source": [
    "filteredEDF = eDF.filter(\"linktype='follow' OR linktype='correlated'\")"
   ]
  },
  {
   "cell_type": "code",
   "execution_count": null,
   "metadata": {},
   "outputs": [],
   "source": [
    "g = GraphFrame(vDF, filteredEDF)"
   ]
  },
  {
   "cell_type": "code",
   "execution_count": 9,
   "metadata": {},
   "outputs": [
    {
     "name": "stderr",
     "output_type": "stream",
     "text": [
      "/home/webbelle/univenv/lib/python3.10/site-packages/pyspark/sql/dataframe.py:127: UserWarning: DataFrame constructor is internal. Do not directly use it.\n",
      "  warnings.warn(\"DataFrame constructor is internal. Do not directly use it.\")\n"
     ]
    },
    {
     "name": "stdout",
     "output_type": "stream",
     "text": [
      "+--------------------+--------------------+--------------------+--------------------+--------------------+\n",
      "|                  v1|                  e1|                  v2|                  e2|                  v3|\n",
      "+--------------------+--------------------+--------------------+--------------------+--------------------+\n",
      "|   {V1, user, Paolo}|    {V1, V3, follow}|   {V3, user, David}|    {V3, V4, follow}|{V4, topic, Big D...|\n",
      "|   {V1, user, Paolo}|    {V1, V3, follow}|   {V3, user, David}|    {V3, V2, follow}|    {V2, topic, SQL}|\n",
      "|   {V1, user, Paolo}|    {V1, V4, follow}|{V4, topic, Big D...|{V4, V2, correlated}|    {V2, topic, SQL}|\n",
      "|   {V3, user, David}|    {V3, V2, follow}|    {V2, topic, SQL}|{V2, V4, correlated}|{V4, topic, Big D...|\n",
      "|   {V3, user, David}|    {V3, V4, follow}|{V4, topic, Big D...|{V4, V2, correlated}|    {V2, topic, SQL}|\n",
      "|    {V2, topic, SQL}|{V2, V4, correlated}|{V4, topic, Big D...|{V4, V2, correlated}|    {V2, topic, SQL}|\n",
      "|{V4, topic, Big D...|{V4, V2, correlated}|    {V2, topic, SQL}|{V2, V4, correlated}|{V4, topic, Big D...|\n",
      "+--------------------+--------------------+--------------------+--------------------+--------------------+\n",
      "\n",
      "root\n",
      " |-- v1: struct (nullable = false)\n",
      " |    |-- id: string (nullable = true)\n",
      " |    |-- entityName: string (nullable = true)\n",
      " |    |-- name: string (nullable = true)\n",
      " |-- e1: struct (nullable = false)\n",
      " |    |-- src: string (nullable = true)\n",
      " |    |-- dst: string (nullable = true)\n",
      " |    |-- linktype: string (nullable = true)\n",
      " |-- v2: struct (nullable = false)\n",
      " |    |-- id: string (nullable = true)\n",
      " |    |-- entityName: string (nullable = true)\n",
      " |    |-- name: string (nullable = true)\n",
      " |-- e2: struct (nullable = false)\n",
      " |    |-- src: string (nullable = true)\n",
      " |    |-- dst: string (nullable = true)\n",
      " |    |-- linktype: string (nullable = true)\n",
      " |-- v3: struct (nullable = false)\n",
      " |    |-- id: string (nullable = true)\n",
      " |    |-- entityName: string (nullable = true)\n",
      " |    |-- name: string (nullable = true)\n",
      "\n"
     ]
    },
    {
     "data": {
      "text/plain": [
       "(None, None)"
      ]
     },
     "execution_count": 9,
     "metadata": {},
     "output_type": "execute_result"
    }
   ],
   "source": [
    "pathsDF = g.find(\"(v1)-[e1]->(v2);(v2)-[e2]->(v3)\")\n",
    "pathsDF.show(), pathsDF.printSchema()"
   ]
  },
  {
   "cell_type": "code",
   "execution_count": 10,
   "metadata": {},
   "outputs": [
    {
     "name": "stdout",
     "output_type": "stream",
     "text": [
      "+-----------------+----------------+----------------+--------------------+--------------------+\n",
      "|               v1|              e1|              v2|                  e2|                  v3|\n",
      "+-----------------+----------------+----------------+--------------------+--------------------+\n",
      "|{V3, user, David}|{V3, V2, follow}|{V2, topic, SQL}|{V2, V4, correlated}|{V4, topic, Big D...|\n",
      "+-----------------+----------------+----------------+--------------------+--------------------+\n",
      "\n",
      "root\n",
      " |-- v1: struct (nullable = false)\n",
      " |    |-- id: string (nullable = true)\n",
      " |    |-- entityName: string (nullable = true)\n",
      " |    |-- name: string (nullable = true)\n",
      " |-- e1: struct (nullable = false)\n",
      " |    |-- src: string (nullable = true)\n",
      " |    |-- dst: string (nullable = true)\n",
      " |    |-- linktype: string (nullable = true)\n",
      " |-- v2: struct (nullable = false)\n",
      " |    |-- id: string (nullable = true)\n",
      " |    |-- entityName: string (nullable = true)\n",
      " |    |-- name: string (nullable = true)\n",
      " |-- e2: struct (nullable = false)\n",
      " |    |-- src: string (nullable = true)\n",
      " |    |-- dst: string (nullable = true)\n",
      " |    |-- linktype: string (nullable = true)\n",
      " |-- v3: struct (nullable = false)\n",
      " |    |-- id: string (nullable = true)\n",
      " |    |-- entityName: string (nullable = true)\n",
      " |    |-- name: string (nullable = true)\n",
      "\n"
     ]
    },
    {
     "data": {
      "text/plain": [
       "(None, None)"
      ]
     },
     "execution_count": 10,
     "metadata": {},
     "output_type": "execute_result"
    }
   ],
   "source": [
    "finalDF = pathsDF.filter(\"\"\"\n",
    "    v1.entityName='user'\n",
    "    AND e1.linktype='follow'\n",
    "    AND v2.entityName='topic'\n",
    "    AND e2.linktype='correlated'\n",
    "    AND v3.entityName='topic'\n",
    "    AND v3.name='Big Data'\n",
    "\"\"\")\n",
    "\n",
    "finalDF.show(), finalDF.printSchema()"
   ]
  },
  {
   "cell_type": "code",
   "execution_count": 13,
   "metadata": {},
   "outputs": [],
   "source": [
    "finalResult = finalDF.selectExpr(\"v1.name AS USERNAME\")\n",
    "finalResult.write.csv(outputPath, header=True)"
   ]
  }
 ],
 "metadata": {
  "kernelspec": {
   "display_name": "Python 3.10.4 ('univenv')",
   "language": "python",
   "name": "python3"
  },
  "language_info": {
   "codemirror_mode": {
    "name": "ipython",
    "version": 3
   },
   "file_extension": ".py",
   "mimetype": "text/x-python",
   "name": "python",
   "nbconvert_exporter": "python",
   "pygments_lexer": "ipython3",
   "version": "3.10.4"
  },
  "orig_nbformat": 4,
  "vscode": {
   "interpreter": {
    "hash": "1c09f96fa3376aee947a5c6cdca7d8430de07efed7253ca04be919864e78c173"
   }
  }
 },
 "nbformat": 4,
 "nbformat_minor": 2
}
