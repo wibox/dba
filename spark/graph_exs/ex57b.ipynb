{
 "cells": [
  {
   "cell_type": "code",
   "execution_count": 1,
   "metadata": {},
   "outputs": [
    {
     "name": "stdout",
     "output_type": "stream",
     "text": [
      "22/08/18 18:46:17 WARN Utils: Your hostname, webbelle-XPS-15-7590 resolves to a loopback address: 127.0.1.1; using 192.168.1.62 instead (on interface wlp58s0)\n",
      "22/08/18 18:46:17 WARN Utils: Set SPARK_LOCAL_IP if you need to bind to another address\n"
     ]
    },
    {
     "name": "stderr",
     "output_type": "stream",
     "text": [
      "Setting default log level to \"WARN\".\n",
      "To adjust logging level use sc.setLogLevel(newLevel). For SparkR, use setLogLevel(newLevel).\n"
     ]
    },
    {
     "name": "stdout",
     "output_type": "stream",
     "text": [
      "22/08/18 18:46:17 WARN NativeCodeLoader: Unable to load native-hadoop library for your platform... using builtin-java classes where applicable\n",
      "22/08/18 18:46:18 WARN Utils: Service 'SparkUI' could not bind on port 4040. Attempting port 4041.\n",
      "22/08/18 18:46:18 WARN Utils: Service 'SparkUI' could not bind on port 4041. Attempting port 4042.\n",
      "22/08/18 18:46:18 WARN Utils: Service 'SparkUI' could not bind on port 4042. Attempting port 4043.\n",
      "22/08/18 18:46:18 WARN Utils: Service 'SparkUI' could not bind on port 4043. Attempting port 4044.\n",
      "22/08/18 18:46:18 WARN Utils: Service 'SparkUI' could not bind on port 4044. Attempting port 4045.\n",
      "22/08/18 18:46:18 WARN Utils: Service 'SparkUI' could not bind on port 4045. Attempting port 4046.\n"
     ]
    }
   ],
   "source": [
    "from pyspark import SparkConf, SparkContext\n",
    "from pyspark.sql import SparkSession\n",
    "from graphframes import GraphFrame\n",
    "\n",
    "conf = SparkConf().setAppName(\"ex57\")\n",
    "sc = SparkContext(conf=conf)\n",
    "ssql = SparkSession.builder.getOrCreate()"
   ]
  },
  {
   "cell_type": "code",
   "execution_count": 2,
   "metadata": {},
   "outputs": [],
   "source": [
    "from pyspark.sql import types\n",
    "from graphframes.lib import AggregateMessages\n",
    "from pyspark.sql import functions as F"
   ]
  },
  {
   "cell_type": "code",
   "execution_count": 3,
   "metadata": {},
   "outputs": [],
   "source": [
    "edgesPath = \"data/Ex57b/data/edges.csv\"\n",
    "vertexesPath = \"data/Ex57b/data/vertexes.csv\"\n",
    "outputPath = \"out57b/\""
   ]
  },
  {
   "cell_type": "code",
   "execution_count": 4,
   "metadata": {},
   "outputs": [],
   "source": [
    "eDF = ssql.read.load(\n",
    "    edgesPath,\n",
    "    format=\"csv\",\n",
    "    header=True,\n",
    "    inferSchema=True\n",
    ")\n",
    "\n",
    "vDF = ssql.read.load(\n",
    "    vertexesPath,\n",
    "    format=\"csv\",\n",
    "    header=True,\n",
    "    inferSchema=True\n",
    ")"
   ]
  },
  {
   "cell_type": "code",
   "execution_count": 5,
   "metadata": {},
   "outputs": [
    {
     "name": "stdout",
     "output_type": "stream",
     "text": [
      "+---+---+--------+\n",
      "|src|dst|linktype|\n",
      "+---+---+--------+\n",
      "| u1| u2|  friend|\n",
      "| u1| u4|  friend|\n",
      "| u1| u5|  friend|\n",
      "| u2| u1|  friend|\n",
      "| u2| u3|  follow|\n",
      "| u3| u2|  follow|\n",
      "| u4| u1|  friend|\n",
      "| u4| u5|  friend|\n",
      "| u5| u1|  friend|\n",
      "| u5| u4|  friend|\n",
      "| u5| u6|  follow|\n",
      "| u6| u3|  follow|\n",
      "+---+---+--------+\n",
      "\n",
      "root\n",
      " |-- src: string (nullable = true)\n",
      " |-- dst: string (nullable = true)\n",
      " |-- linktype: string (nullable = true)\n",
      "\n",
      "+---+-----+---+\n",
      "| id| name|age|\n",
      "+---+-----+---+\n",
      "| u1|Alice| 34|\n",
      "| u2|  Bob| 36|\n",
      "| u3| John| 30|\n",
      "| u4|David| 29|\n",
      "| u5| Paul| 32|\n",
      "| u6| Adel| 36|\n",
      "| u7| Eddy| 60|\n",
      "+---+-----+---+\n",
      "\n",
      "root\n",
      " |-- id: string (nullable = true)\n",
      " |-- name: string (nullable = true)\n",
      " |-- age: integer (nullable = true)\n",
      "\n"
     ]
    },
    {
     "data": {
      "text/plain": [
       "(None, None)"
      ]
     },
     "execution_count": 5,
     "metadata": {},
     "output_type": "execute_result"
    }
   ],
   "source": [
    "eDF.show(), eDF.printSchema()\n",
    "vDF.show(), vDF.printSchema()"
   ]
  },
  {
   "cell_type": "code",
   "execution_count": 6,
   "metadata": {},
   "outputs": [
    {
     "data": {
      "text/plain": [
       "<function __main__.checkAge(age)>"
      ]
     },
     "execution_count": 6,
     "metadata": {},
     "output_type": "execute_result"
    }
   ],
   "source": [
    "#ritornare un int piuttosto che un boolean ha molto più senso perchè posso usare una sum come aggregazione dopo!\n",
    "def checkAge(age):\n",
    "    if age<35:\n",
    "        return 1\n",
    "    else:\n",
    "        return 0\n",
    "\n",
    "ssql.udf.register(\"ageCheck\", checkAge, types.IntegerType())"
   ]
  },
  {
   "cell_type": "code",
   "execution_count": 7,
   "metadata": {},
   "outputs": [],
   "source": [
    "filteredVDF = vDF.selectExpr(\"*\", \"ageCheck(age) AS AgeLess35\")"
   ]
  },
  {
   "cell_type": "code",
   "execution_count": 8,
   "metadata": {},
   "outputs": [
    {
     "name": "stdout",
     "output_type": "stream",
     "text": [
      "+---+-----+---+---------+\n",
      "| id| name|age|AgeLess35|\n",
      "+---+-----+---+---------+\n",
      "| u1|Alice| 34|        1|\n",
      "| u2|  Bob| 36|        0|\n",
      "| u3| John| 30|        1|\n",
      "| u4|David| 29|        1|\n",
      "| u5| Paul| 32|        1|\n",
      "| u6| Adel| 36|        0|\n",
      "| u7| Eddy| 60|        0|\n",
      "+---+-----+---+---------+\n",
      "\n"
     ]
    },
    {
     "name": "stderr",
     "output_type": "stream",
     "text": [
      "                                                                                \r"
     ]
    }
   ],
   "source": [
    "filteredVDF.show()"
   ]
  },
  {
   "cell_type": "code",
   "execution_count": 9,
   "metadata": {},
   "outputs": [
    {
     "name": "stderr",
     "output_type": "stream",
     "text": [
      "/home/webbelle/univenv/lib/python3.10/site-packages/pyspark/sql/dataframe.py:148: UserWarning: DataFrame.sql_ctx is an internal property, and will be removed in future releases. Use DataFrame.sparkSession instead.\n",
      "  warnings.warn(\n"
     ]
    }
   ],
   "source": [
    "g = GraphFrame(filteredVDF, eDF)"
   ]
  },
  {
   "cell_type": "code",
   "execution_count": 10,
   "metadata": {},
   "outputs": [],
   "source": [
    "msgToDst = AggregateMessages.src[\"AgeLess35\"]"
   ]
  },
  {
   "cell_type": "code",
   "execution_count": null,
   "metadata": {},
   "outputs": [],
   "source": [
    "#senza l'import e l'uso di F questo bit non funziona perchè va in conflitto con python nativo!!!\n",
    "ageLess35 = g.aggregateMessages(F.sum(AggregateMessages.msg),\n",
    "    sendToSrc=None,\n",
    "    sendToDst=msgToDst\n",
    ").withColumnRenamed(\"sum(MSG)\", \"nn\")"
   ]
  },
  {
   "cell_type": "code",
   "execution_count": 12,
   "metadata": {},
   "outputs": [
    {
     "name": "stdout",
     "output_type": "stream",
     "text": [
      "+---+---+\n",
      "| id| nn|\n",
      "+---+---+\n",
      "| u3|  0|\n",
      "| u4|  2|\n",
      "| u5|  2|\n",
      "| u1|  2|\n",
      "| u6|  1|\n",
      "| u2|  2|\n",
      "+---+---+\n",
      "\n"
     ]
    }
   ],
   "source": [
    "ageLess35.show()"
   ]
  },
  {
   "cell_type": "code",
   "execution_count": 13,
   "metadata": {},
   "outputs": [],
   "source": [
    "ageLess35.filter(\"nn>=2\").write.csv(outputPath, header=True)"
   ]
  }
 ],
 "metadata": {
  "kernelspec": {
   "display_name": "Python 3.10.4 ('univenv')",
   "language": "python",
   "name": "python3"
  },
  "language_info": {
   "codemirror_mode": {
    "name": "ipython",
    "version": 3
   },
   "file_extension": ".py",
   "mimetype": "text/x-python",
   "name": "python",
   "nbconvert_exporter": "python",
   "pygments_lexer": "ipython3",
   "version": "3.10.4"
  },
  "orig_nbformat": 4,
  "vscode": {
   "interpreter": {
    "hash": "1c09f96fa3376aee947a5c6cdca7d8430de07efed7253ca04be919864e78c173"
   }
  }
 },
 "nbformat": 4,
 "nbformat_minor": 2
}
