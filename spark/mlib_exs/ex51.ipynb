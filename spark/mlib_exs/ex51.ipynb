{
 "cells": [
  {
   "cell_type": "code",
   "execution_count": null,
   "metadata": {},
   "outputs": [],
   "source": [
    "from pyspark import SparkConf, SparkContext\n",
    "from pyspark.sql import SparkSession\n",
    "from pyspark.ml import Pipeline, PipelineModel\n",
    "from pyspark.mllib.linalg import Vector\n",
    "from pyspark.ml.feature import VectorAssembler\n",
    "from pyspark.ml.classification import LogisticRegression\n",
    "from pyspark.sql.types import * #questo per definire bene il tipo nelle UDF\n",
    "\n",
    "conf = SparkConf().setAppName(\"ex51\")\n",
    "sc = SparkContext(conf=conf)\n",
    "ssql = SparkSession.builder.getOrCreate()"
   ]
  },
  {
   "cell_type": "code",
   "execution_count": 2,
   "metadata": {},
   "outputs": [],
   "source": [
    "inputPathLabels = \"data/Ex51/data/trainingData.csv\"\n",
    "inputPathUnlabeld = \"data/Ex51/data/unlabeledData.csv\"\n",
    "outputPath = \"out51/\""
   ]
  },
  {
   "cell_type": "code",
   "execution_count": 3,
   "metadata": {},
   "outputs": [],
   "source": [
    "label_data = ssql.read.load(\n",
    "    inputPathLabels,\n",
    "    format=\"csv\",\n",
    "    header=True,\n",
    "    inferSchema=True\n",
    ")\n",
    "\n",
    "no_label_data = ssql.read.load(\n",
    "    inputPathUnlabeld,\n",
    "    format=\"csv\",\n",
    "    header=True,\n",
    "    inferSchema=True\n",
    ")"
   ]
  },
  {
   "cell_type": "code",
   "execution_count": 4,
   "metadata": {},
   "outputs": [
    {
     "name": "stdout",
     "output_type": "stream",
     "text": [
      "+-----+--------------------+\n",
      "|label|                text|\n",
      "+-----+--------------------+\n",
      "|    1|The Spark system ...|\n",
      "|    1|Spark is a new di...|\n",
      "|    0|Turin is a beauti...|\n",
      "|    0|Turin is in the n...|\n",
      "+-----+--------------------+\n",
      "\n",
      "root\n",
      " |-- label: integer (nullable = true)\n",
      " |-- text: string (nullable = true)\n",
      "\n"
     ]
    },
    {
     "data": {
      "text/plain": [
       "(None, None)"
      ]
     },
     "execution_count": 4,
     "metadata": {},
     "output_type": "execute_result"
    }
   ],
   "source": [
    "label_data.show(), label_data.printSchema()"
   ]
  },
  {
   "cell_type": "code",
   "execution_count": 5,
   "metadata": {},
   "outputs": [
    {
     "name": "stdout",
     "output_type": "stream",
     "text": [
      "+-----+--------------------+\n",
      "|label|                text|\n",
      "+-----+--------------------+\n",
      "| null|Spark performs be...|\n",
      "| null|Comparison betwee...|\n",
      "| null|Turin is in Piedmont|\n",
      "+-----+--------------------+\n",
      "\n",
      "root\n",
      " |-- label: string (nullable = true)\n",
      " |-- text: string (nullable = true)\n",
      "\n"
     ]
    },
    {
     "data": {
      "text/plain": [
       "(None, None)"
      ]
     },
     "execution_count": 5,
     "metadata": {},
     "output_type": "execute_result"
    }
   ],
   "source": [
    "no_label_data.show(), no_label_data.printSchema()"
   ]
  },
  {
   "cell_type": "code",
   "execution_count": null,
   "metadata": {},
   "outputs": [],
   "source": [
    "def countWords(text):\n",
    "    return len(text.split(\" \"))\n",
    "\n",
    "def isSpark(text):\n",
    "    return text.lower().find(\"spark\")>=0\n",
    "\n",
    "ssql.udf.register(\"wordsCount\", countWords, IntegerType())\n",
    "ssql.udf.register(\"isSpark\", isSpark, BooleanType())"
   ]
  },
  {
   "cell_type": "code",
   "execution_count": 8,
   "metadata": {},
   "outputs": [],
   "source": [
    "featuresDF = label_data.selectExpr(\"label\", \"text\", \"wordsCount(text) AS wordsInText\", \"isSpark(text) as containsSpark\")"
   ]
  },
  {
   "cell_type": "code",
   "execution_count": 9,
   "metadata": {},
   "outputs": [
    {
     "name": "stdout",
     "output_type": "stream",
     "text": [
      "+-----+--------------------+-----------+-------------+\n",
      "|label|                text|wordsInText|containsSpark|\n",
      "+-----+--------------------+-----------+-------------+\n",
      "|    1|The Spark system ...|          7|         true|\n",
      "|    1|Spark is a new di...|          6|         true|\n",
      "|    0|Turin is a beauti...|          5|        false|\n",
      "|    0|Turin is in the n...|          8|        false|\n",
      "+-----+--------------------+-----------+-------------+\n",
      "\n",
      "root\n",
      " |-- label: integer (nullable = true)\n",
      " |-- text: string (nullable = true)\n",
      " |-- wordsInText: integer (nullable = true)\n",
      " |-- containsSpark: boolean (nullable = true)\n",
      "\n"
     ]
    },
    {
     "name": "stderr",
     "output_type": "stream",
     "text": [
      "                                                                                \r"
     ]
    },
    {
     "data": {
      "text/plain": [
       "(None, None)"
      ]
     },
     "execution_count": 9,
     "metadata": {},
     "output_type": "execute_result"
    }
   ],
   "source": [
    "featuresDF.show(), featuresDF.printSchema()"
   ]
  },
  {
   "cell_type": "code",
   "execution_count": 13,
   "metadata": {},
   "outputs": [],
   "source": [
    "#definisco una pipeline per effettuare la classificazione\n",
    "assembler = VectorAssembler(inputCols=[\"wordsInText\", \"containsSpark\"], outputCol=\"features\")\n",
    "lr = LogisticRegression().setMaxIter(10).setRegParam(0.01)\n",
    "pipeline = Pipeline().setStages([assembler, lr])\n",
    "classificationModel = pipeline.fit(featuresDF)"
   ]
  },
  {
   "cell_type": "code",
   "execution_count": 12,
   "metadata": {},
   "outputs": [
    {
     "name": "stdout",
     "output_type": "stream",
     "text": [
      "+-----+--------------------+-----------+-------------+\n",
      "|label|                text|wordsInText|containsSpark|\n",
      "+-----+--------------------+-----------+-------------+\n",
      "| null|Spark performs be...|          5|         true|\n",
      "| null|Comparison betwee...|          5|         true|\n",
      "| null|Turin is in Piedmont|          4|        false|\n",
      "+-----+--------------------+-----------+-------------+\n",
      "\n",
      "root\n",
      " |-- label: string (nullable = true)\n",
      " |-- text: string (nullable = true)\n",
      " |-- wordsInText: integer (nullable = true)\n",
      " |-- containsSpark: boolean (nullable = true)\n",
      "\n"
     ]
    },
    {
     "data": {
      "text/plain": [
       "(None, None)"
      ]
     },
     "execution_count": 12,
     "metadata": {},
     "output_type": "execute_result"
    }
   ],
   "source": [
    "formattedNoLabelDataDF = no_label_data.selectExpr(\"label\", \"text\", \"wordsCount(text) AS wordsInText\", \"isSpark(text) as containsSpark\")\n",
    "formattedNoLabelDataDF.show(), formattedNoLabelDataDF.printSchema()"
   ]
  },
  {
   "cell_type": "code",
   "execution_count": 14,
   "metadata": {},
   "outputs": [
    {
     "name": "stdout",
     "output_type": "stream",
     "text": [
      "+-----+--------------------+-----------+-------------+---------+--------------------+--------------------+----------+\n",
      "|label|                text|wordsInText|containsSpark| features|       rawPrediction|         probability|prediction|\n",
      "+-----+--------------------+-----------+-------------+---------+--------------------+--------------------+----------+\n",
      "| null|Spark performs be...|          5|         true|[5.0,1.0]|[-3.1328695876505...|[0.04177159569658...|       1.0|\n",
      "| null|Comparison betwee...|          5|         true|[5.0,1.0]|[-3.1328695876505...|[0.04177159569658...|       1.0|\n",
      "| null|Turin is in Piedmont|          4|        false|[4.0,0.0]|[3.13286958765052...|[0.95822840430341...|       0.0|\n",
      "+-----+--------------------+-----------+-------------+---------+--------------------+--------------------+----------+\n",
      "\n",
      "root\n",
      " |-- label: string (nullable = true)\n",
      " |-- text: string (nullable = true)\n",
      " |-- wordsInText: integer (nullable = true)\n",
      " |-- containsSpark: boolean (nullable = true)\n",
      " |-- features: vector (nullable = true)\n",
      " |-- rawPrediction: vector (nullable = true)\n",
      " |-- probability: vector (nullable = true)\n",
      " |-- prediction: double (nullable = false)\n",
      "\n"
     ]
    },
    {
     "data": {
      "text/plain": [
       "(None, None)"
      ]
     },
     "execution_count": 14,
     "metadata": {},
     "output_type": "execute_result"
    }
   ],
   "source": [
    "predictionDF = classificationModel.transform(formattedNoLabelDataDF)\n",
    "predictionDF.show(), predictionDF.printSchema()"
   ]
  },
  {
   "cell_type": "code",
   "execution_count": 15,
   "metadata": {},
   "outputs": [
    {
     "name": "stdout",
     "output_type": "stream",
     "text": [
      "+--------------------+----------+\n",
      "|                text|prediction|\n",
      "+--------------------+----------+\n",
      "|Spark performs be...|       1.0|\n",
      "|Comparison betwee...|       1.0|\n",
      "|Turin is in Piedmont|       0.0|\n",
      "+--------------------+----------+\n",
      "\n",
      "root\n",
      " |-- text: string (nullable = true)\n",
      " |-- prediction: double (nullable = false)\n",
      "\n"
     ]
    },
    {
     "data": {
      "text/plain": [
       "(None, None)"
      ]
     },
     "execution_count": 15,
     "metadata": {},
     "output_type": "execute_result"
    }
   ],
   "source": [
    "finalDF = predictionDF.select(\"text\", \"prediction\")\n",
    "finalDF.show(), finalDF.printSchema()"
   ]
  },
  {
   "cell_type": "code",
   "execution_count": 16,
   "metadata": {},
   "outputs": [],
   "source": [
    "finalDF.write.csv(outputPath, header=True)"
   ]
  },
  {
   "cell_type": "code",
   "execution_count": null,
   "metadata": {},
   "outputs": [],
   "source": []
  }
 ],
 "metadata": {
  "kernelspec": {
   "display_name": "Python 3.10.4 ('univenv')",
   "language": "python",
   "name": "python3"
  },
  "language_info": {
   "codemirror_mode": {
    "name": "ipython",
    "version": 3
   },
   "file_extension": ".py",
   "mimetype": "text/x-python",
   "name": "python",
   "nbconvert_exporter": "python",
   "pygments_lexer": "ipython3",
   "version": "3.10.4"
  },
  "orig_nbformat": 4,
  "vscode": {
   "interpreter": {
    "hash": "1c09f96fa3376aee947a5c6cdca7d8430de07efed7253ca04be919864e78c173"
   }
  }
 },
 "nbformat": 4,
 "nbformat_minor": 2
}
