{
 "cells": [
  {
   "cell_type": "code",
   "execution_count": null,
   "metadata": {},
   "outputs": [],
   "source": [
    "from pyspark import SparkContext, SparkConf\n",
    "from pyspark.sql import SparkSession\n",
    "\n",
    "conf = SparkConf().setAppName(\"ex48\")\n",
    "sc = SparkContext(conf=conf)\n",
    "ssql = SparkSession.builder.getOrCreate()"
   ]
  },
  {
   "cell_type": "code",
   "execution_count": 2,
   "metadata": {},
   "outputs": [],
   "source": [
    "inputPath = \"data/Ex48/data/\"\n",
    "outputPath = \"out48/\""
   ]
  },
  {
   "cell_type": "code",
   "execution_count": null,
   "metadata": {},
   "outputs": [],
   "source": [
    "df = ssql.read.load(\n",
    "    inputPath,\n",
    "    format=\"csv\",\n",
    "    header=True,\n",
    "    inferSchema=True\n",
    ")\n",
    "df.show()"
   ]
  },
  {
   "cell_type": "code",
   "execution_count": 5,
   "metadata": {},
   "outputs": [],
   "source": [
    "dfNameCountedAgeAvareged = df.groupBy(\"name\").agg({\"name\":\"count\", \"age\":\"avg\"})"
   ]
  },
  {
   "cell_type": "code",
   "execution_count": 7,
   "metadata": {},
   "outputs": [],
   "source": [
    "df_filtered = dfNameCountedAgeAvareged.filter(\"count(name)>=2\")"
   ]
  },
  {
   "cell_type": "code",
   "execution_count": 8,
   "metadata": {},
   "outputs": [],
   "source": [
    "final_df = df_filtered.select(\"name\", \"avg(age)\")"
   ]
  },
  {
   "cell_type": "code",
   "execution_count": 9,
   "metadata": {},
   "outputs": [],
   "source": [
    "final_df.write.csv(outputPath, header=False)"
   ]
  },
  {
   "cell_type": "code",
   "execution_count": null,
   "metadata": {},
   "outputs": [],
   "source": [
    "#using SQL\n",
    "df.createOrReplaceTempView(\"people\")\n",
    "df_sql = ssql.sql(\"\"\"\n",
    "SELECT name, avg(age) as ageavg\n",
    "FROM people\n",
    "GROUP BY name\n",
    "HAVING count(*) >=2\n",
    "\"\"\")"
   ]
  }
 ],
 "metadata": {
  "kernelspec": {
   "display_name": "Python 3.10.4 ('univenv')",
   "language": "python",
   "name": "python3"
  },
  "language_info": {
   "codemirror_mode": {
    "name": "ipython",
    "version": 3
   },
   "file_extension": ".py",
   "mimetype": "text/x-python",
   "name": "python",
   "nbconvert_exporter": "python",
   "pygments_lexer": "ipython3",
   "version": "3.10.4"
  },
  "orig_nbformat": 4,
  "vscode": {
   "interpreter": {
    "hash": "1c09f96fa3376aee947a5c6cdca7d8430de07efed7253ca04be919864e78c173"
   }
  }
 },
 "nbformat": 4,
 "nbformat_minor": 2
}
