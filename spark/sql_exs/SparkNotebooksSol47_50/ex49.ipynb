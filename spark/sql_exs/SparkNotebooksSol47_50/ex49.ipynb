{
 "cells": [
  {
   "cell_type": "code",
   "execution_count": null,
   "metadata": {},
   "outputs": [],
   "source": [
    "inputPath = \"/data/students/bigdata-01QYD/ex_data/Ex49/data/\"\n",
    "outputPath = \"resOut_ex49/\""
   ]
  },
  {
   "cell_type": "code",
   "execution_count": null,
   "metadata": {},
   "outputs": [],
   "source": [
    "# Read the content of the input file profiles.csv and store it into a DataFrame\n",
    "# The input file has an header\n",
    "# Schema of the input data:\n",
    "# |-- name: string (nullable = true)\n",
    "# |-- surname: string (nullable = true)\n",
    "# |-- age: integer (nullable = true)\n",
    "profilesDF = spark.read.load(inputPath,\\\n",
    "                             format=\"csv\",\n",
    "                             header=True,\\\n",
    "                             inferSchema=True)"
   ]
  },
  {
   "cell_type": "code",
   "execution_count": null,
   "metadata": {},
   "outputs": [],
   "source": [
    "#profilesDF.show()\n",
    "#profilesDF.printSchema()"
   ]
  },
  {
   "cell_type": "code",
   "execution_count": null,
   "metadata": {},
   "outputs": [],
   "source": [
    "# Define a User Defined Function called AgeCategory(age)\n",
    "# that returns a string associated with the Category of the user.\n",
    "# AgeCategory = \"[(age/10)*10-(age/10)*10+9]\"\n",
    "# e.g.,\n",
    "# 43 -> [40-49]\n",
    "# 39 -> [30-39]\n",
    "# 21 -> [20-29]\n",
    "# 17 -> [10-19]\n",
    "# ..\n",
    "spark.udf.register(\"AgeCategory\", lambda age: \"[\"+str((age//10)*10)+\"-\"+str((age//10)*10+9)+\"]\")"
   ]
  },
  {
   "cell_type": "code",
   "execution_count": null,
   "metadata": {},
   "outputs": [],
   "source": [
    "# Define a DataFrame with the following schema:\n",
    "# |-- name: string (nullable = true)\n",
    "# |-- surname: string (nullable = true)\n",
    "# |-- rangeage: String (nullable = true)\n",
    "\n",
    "profilesDiscretizedAge = profilesDF.selectExpr(\"name\", \"surname\", \"AgeCategory(age) as rangeage\")"
   ]
  },
  {
   "cell_type": "code",
   "execution_count": null,
   "metadata": {},
   "outputs": [],
   "source": [
    "#profilesDiscretizedAge.printSchema()\n",
    "#profilesDiscretizedAge.show()"
   ]
  },
  {
   "cell_type": "code",
   "execution_count": null,
   "metadata": {},
   "outputs": [],
   "source": [
    "# Save the result in the output folder\n",
    "profilesDiscretizedAge.write.csv(outputPath, header=True)"
   ]
  }
 ],
 "metadata": {
  "kernelspec": {
   "display_name": "PySpark (Local)",
   "language": "python",
   "name": "pyspark_local"
  },
  "language_info": {
   "codemirror_mode": {
    "name": "ipython",
    "version": 3
   },
   "file_extension": ".py",
   "mimetype": "text/x-python",
   "name": "python",
   "nbconvert_exporter": "python",
   "pygments_lexer": "ipython3",
   "version": "3.7.9"
  }
 },
 "nbformat": 4,
 "nbformat_minor": 4
}
