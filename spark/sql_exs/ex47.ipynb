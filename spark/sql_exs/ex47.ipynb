{
 "cells": [
  {
   "cell_type": "code",
   "execution_count": null,
   "metadata": {},
   "outputs": [],
   "source": [
    "from pyspark import SparkConf, SparkContext\n",
    "from pyspark.sql import SparkSession\n",
    "\n",
    "conf = SparkConf().setAppName(\"ex47\")\n",
    "sc = SparkContext(conf=conf)\n",
    "sparkSQL = SparkSession.builder.getOrCreate()"
   ]
  },
  {
   "cell_type": "code",
   "execution_count": 2,
   "metadata": {},
   "outputs": [],
   "source": [
    "inputPath = \"data/Ex47/data/\"\n",
    "outputPath = \"out47/\""
   ]
  },
  {
   "cell_type": "code",
   "execution_count": null,
   "metadata": {},
   "outputs": [],
   "source": [
    "#loading data\n",
    "df = sparkSQL.read.load(inputPath,\n",
    "                        format=\"csv\",\n",
    "                        header=True,\n",
    "                        inferSchema=True)\n",
    "df.show()"
   ]
  },
  {
   "cell_type": "code",
   "execution_count": 6,
   "metadata": {},
   "outputs": [],
   "source": [
    "#using dataframes\n",
    "df_filtered = df.filter(\"gender='male'\")\n",
    "df_newAge = df_filtered.selectExpr(\"name\", \"age+1 AS newAge\")\n",
    "df_sorted = df_newAge.sort(df_newAge.newAge.desc(), df_newAge.name)\n",
    "df_sorted.write.csv(outputPath, header=False)"
   ]
  },
  {
   "cell_type": "code",
   "execution_count": null,
   "metadata": {},
   "outputs": [],
   "source": [
    "#using SQL\n",
    "df.createOrReplaceTempView(\"people\")\n",
    "df = sparkSQL.sql(\"\"\"\n",
    "SELECT name, age+1 AS newAge\n",
    "FROM people\n",
    "WHERE gender='male\n",
    "SORT BY age desc, name\n",
    "\"\"\")"
   ]
  }
 ],
 "metadata": {
  "kernelspec": {
   "display_name": "Python 3.10.4 ('univenv')",
   "language": "python",
   "name": "python3"
  },
  "language_info": {
   "codemirror_mode": {
    "name": "ipython",
    "version": 3
   },
   "file_extension": ".py",
   "mimetype": "text/x-python",
   "name": "python",
   "nbconvert_exporter": "python",
   "pygments_lexer": "ipython3",
   "version": "3.10.4"
  },
  "orig_nbformat": 4,
  "vscode": {
   "interpreter": {
    "hash": "1c09f96fa3376aee947a5c6cdca7d8430de07efed7253ca04be919864e78c173"
   }
  }
 },
 "nbformat": 4,
 "nbformat_minor": 2
}
