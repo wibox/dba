{
 "cells": [
  {
   "cell_type": "code",
   "execution_count": null,
   "metadata": {},
   "outputs": [],
   "source": [
    "from pyspark import SparkConf, SparkContext\n",
    "conf = SparkConf().setAppName(\"ex40\")\n",
    "sc = SparkContext(conf=conf)"
   ]
  },
  {
   "cell_type": "code",
   "execution_count": 5,
   "metadata": {},
   "outputs": [],
   "source": [
    "inputPath = \"data/Ex40/data/\"\n",
    "outputPath = \"out40/\""
   ]
  },
  {
   "cell_type": "code",
   "execution_count": 6,
   "metadata": {},
   "outputs": [],
   "source": [
    "inputRDD = sc.textFile(inputPath)"
   ]
  },
  {
   "cell_type": "code",
   "execution_count": 7,
   "metadata": {},
   "outputs": [],
   "source": [
    "datesRDD = inputRDD.filter(lambda line : float(line.split(\",\")[2])>50.0)\\\n",
    "    .map(lambda line : (line.split(\",\")[0], line.split(\",\")[1]))\\\n",
    "        .groupByKey()\\\n",
    "            .mapValues(lambda dates : len(list(dates)))\\\n",
    "                .map(lambda record : (record[1], record[0]))\\\n",
    "                    .saveAsTextFile(outputPath)"
   ]
  }
 ],
 "metadata": {
  "kernelspec": {
   "display_name": "Python 3.10.4 ('univenv')",
   "language": "python",
   "name": "python3"
  },
  "language_info": {
   "codemirror_mode": {
    "name": "ipython",
    "version": 3
   },
   "file_extension": ".py",
   "mimetype": "text/x-python",
   "name": "python",
   "nbconvert_exporter": "python",
   "pygments_lexer": "ipython3",
   "version": "3.10.4"
  },
  "orig_nbformat": 4,
  "vscode": {
   "interpreter": {
    "hash": "1c09f96fa3376aee947a5c6cdca7d8430de07efed7253ca04be919864e78c173"
   }
  }
 },
 "nbformat": 4,
 "nbformat_minor": 2
}
