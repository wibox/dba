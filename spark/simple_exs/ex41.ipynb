{
 "cells": [
  {
   "cell_type": "code",
   "execution_count": null,
   "metadata": {},
   "outputs": [],
   "source": [
    "from pyspark import SparkContext, SparkConf\n",
    "conf = SparkConf().setAppName(\"ex41\")\n",
    "sc = SparkContext(conf=conf)"
   ]
  },
  {
   "cell_type": "code",
   "execution_count": 10,
   "metadata": {},
   "outputs": [],
   "source": [
    "inputPath = \"data/Ex41/data/\"\n",
    "outputPath = \"out41/\"\n",
    "k = 1"
   ]
  },
  {
   "cell_type": "code",
   "execution_count": 11,
   "metadata": {},
   "outputs": [],
   "source": [
    "inputRDD = sc.textFile(inputPath)"
   ]
  },
  {
   "cell_type": "code",
   "execution_count": 12,
   "metadata": {},
   "outputs": [],
   "source": [
    "pm10ReadingsRDD = inputRDD.filter(lambda line : float(line.split(\",\")[2])>50.0)\\\n",
    "    .map(lambda line : (line.split(\",\")[0], 1))\\\n",
    "        .reduceByKey(lambda value1, value2: value1+value2)\\\n",
    "            .top(k, lambda reading : reading[1])"
   ]
  },
  {
   "cell_type": "code",
   "execution_count": 13,
   "metadata": {},
   "outputs": [],
   "source": [
    "finalRDD = sc.parallelize(pm10ReadingsRDD).saveAsTextFile(outputPath)"
   ]
  }
 ],
 "metadata": {
  "kernelspec": {
   "display_name": "Python 3.10.4 ('univenv')",
   "language": "python",
   "name": "python3"
  },
  "language_info": {
   "codemirror_mode": {
    "name": "ipython",
    "version": 3
   },
   "file_extension": ".py",
   "mimetype": "text/x-python",
   "name": "python",
   "nbconvert_exporter": "python",
   "pygments_lexer": "ipython3",
   "version": "3.10.4"
  },
  "orig_nbformat": 4,
  "vscode": {
   "interpreter": {
    "hash": "1c09f96fa3376aee947a5c6cdca7d8430de07efed7253ca04be919864e78c173"
   }
  }
 },
 "nbformat": 4,
 "nbformat_minor": 2
}
