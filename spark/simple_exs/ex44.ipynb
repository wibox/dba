{
 "cells": [
  {
   "cell_type": "code",
   "execution_count": 1,
   "metadata": {},
   "outputs": [],
   "source": [
    "# Solution Ex. 44"
   ]
  },
  {
   "cell_type": "code",
   "execution_count": 1,
   "metadata": {},
   "outputs": [],
   "source": [
    "#inputPathWatched = \"/data/students/bigdata-01QYD/ex_data/Ex44/data/watchedmovies.txt\"\n",
    "#inputPathPreferences = \"/data/students/bigdata-01QYD/ex_data/Ex44/data/preferences.txt\"\n",
    "#inputPathMovies = \"/data/students/bigdata-01QYD/ex_data/Ex44/data/movies.txt\"\n",
    "#outputPath = \"res_out_Ex44/\"\n",
    "#threshold = 0.5\n",
    "\n",
    "inputPathWatched = \"data/Ex44/data/watchedmovies.txt\"\n",
    "inputPathPreferences = \"data/Ex44/data/preferences.txt\"\n",
    "inputPathMovies = \"data/Ex44/data/movies.txt\"\n",
    "outputPath = \"res_out_Ex44/\"\n",
    "threshold = 0.5"
   ]
  },
  {
   "cell_type": "code",
   "execution_count": 2,
   "metadata": {},
   "outputs": [],
   "source": [
    "# Read the content of the watched movies file\n",
    "watchedRDD = sc.textFile(inputPathWatched)"
   ]
  },
  {
   "cell_type": "code",
   "execution_count": 3,
   "metadata": {},
   "outputs": [],
   "source": [
    "# Select only userid and movieid\n",
    "# Define an RDD or pairs with movieid as key and userid as value\n",
    "movieUserPairRDD = watchedRDD.map(lambda line:  (line.split(\",\")[1], line.split(\",\")[0]))"
   ]
  },
  {
   "cell_type": "code",
   "execution_count": 4,
   "metadata": {},
   "outputs": [],
   "source": [
    "# Read the content of the movies file\n",
    "moviesRDD = sc.textFile(inputPathMovies)"
   ]
  },
  {
   "cell_type": "code",
   "execution_count": 5,
   "metadata": {},
   "outputs": [],
   "source": [
    "# Select only movieid and genre\n",
    "# Define an RDD of pairs with movieid as key and genre as value\n",
    "movieGenrePairRDD = moviesRDD.map(lambda line:  (line.split(\",\")[0], line.split(\",\")[2]))"
   ]
  },
  {
   "cell_type": "code",
   "execution_count": 6,
   "metadata": {},
   "outputs": [],
   "source": [
    "# Join watched movies with movies\n",
    "joinWatchedGenreRDD = movieUserPairRDD.join(movieGenrePairRDD)"
   ]
  },
  {
   "cell_type": "code",
   "execution_count": 7,
   "metadata": {},
   "outputs": [],
   "source": [
    "# Select only userid (as key) and genre (as value)\n",
    "usersWatchedGenresRDD = joinWatchedGenreRDD.map(lambda pair: (pair[1][0], pair[1][1]))"
   ]
  },
  {
   "cell_type": "code",
   "execution_count": 8,
   "metadata": {},
   "outputs": [],
   "source": [
    "# Read the content of preferences.txt\n",
    "preferencesRDD = sc.textFile(inputPathPreferences)"
   ]
  },
  {
   "cell_type": "code",
   "execution_count": 9,
   "metadata": {},
   "outputs": [],
   "source": [
    "# Define an RDD of pairs with userid as key and genre as value\n",
    "userLikedGenresRDD = preferencesRDD.map(lambda line: (line.split(\",\")[0], line.split(\",\")[1]))"
   ]
  },
  {
   "cell_type": "code",
   "execution_count": 10,
   "metadata": {},
   "outputs": [],
   "source": [
    "# Cogroup the lists of watched and liked genres for each user\n",
    "# There is one pair for each userid\n",
    "# the value contains the list of genres (with repetitions) of the\n",
    "# watched movies and the list of liked genres\n",
    "userWatchedLikedGenres = usersWatchedGenresRDD.cogroup(userLikedGenresRDD)"
   ]
  },
  {
   "cell_type": "code",
   "execution_count": 13,
   "metadata": {},
   "outputs": [],
   "source": [
    "#userWatchedLikedGenres.mapValues(lambda v: (list(v[0]), list(v[1]))).collect()"
   ]
  },
  {
   "cell_type": "code",
   "execution_count": 14,
   "metadata": {},
   "outputs": [],
   "source": [
    "def misleadingProfileFunc(userWatchedLikedGenresLists):\n",
    "    # Store in a local list the \"small\" set of liked genres\n",
    "    # associated with the current user\n",
    "    likedGenres = list(userWatchedLikedGenresLists[1][1])\n",
    "    \n",
    "    # Iterate over the watched movies (the genres of the watched movies)and count\n",
    "    # - The number of watched movies for this user\n",
    "    # - How many of watched movies are associated with a not liked genre\n",
    "    numWatchedMovies = 0\n",
    "    notLiked = 0\n",
    "   \n",
    "    for watchedGenre in userWatchedLikedGenresLists[1][0]:\n",
    "        numWatchedMovies = numWatchedMovies+1\n",
    "        if watchedGenre not in likedGenres:\n",
    "            notLiked = notLiked+1\n",
    "            \n",
    "    # Check if the number of watched movies associated with a non-liked genre\n",
    "    # is greater that threshold%\n",
    "    if float(notLiked) > threshold * float(numWatchedMovies):\n",
    "        return True\n",
    "    else: \n",
    "        return False"
   ]
  },
  {
   "cell_type": "code",
   "execution_count": 15,
   "metadata": {},
   "outputs": [],
   "source": [
    "# Filter the users with a misleading profile\n",
    "misleadingUsersListsRDD = userWatchedLikedGenres.filter(misleadingProfileFunc)"
   ]
  },
  {
   "cell_type": "code",
   "execution_count": 16,
   "metadata": {},
   "outputs": [],
   "source": [
    "# Select only the userid of the users with a misleading profile\n",
    "misleadingUsersRDD = misleadingUsersListsRDD.keys()"
   ]
  },
  {
   "cell_type": "code",
   "execution_count": 18,
   "metadata": {},
   "outputs": [],
   "source": [
    "#misleadingUsersRDD.collect()"
   ]
  },
  {
   "cell_type": "code",
   "execution_count": 113,
   "metadata": {},
   "outputs": [],
   "source": [
    "misleadingUsersRDD.saveAsTextFile(outputPath)"
   ]
  }
 ],
 "metadata": {
  "kernelspec": {
   "display_name": "Python 3",
   "language": "python",
   "name": "python3"
  },
  "language_info": {
   "codemirror_mode": {
    "name": "ipython",
    "version": 3
   },
   "file_extension": ".py",
   "mimetype": "text/x-python",
   "name": "python",
   "nbconvert_exporter": "python",
   "pygments_lexer": "ipython3",
   "version": "3.6.9"
  }
 },
 "nbformat": 4,
 "nbformat_minor": 4
}
